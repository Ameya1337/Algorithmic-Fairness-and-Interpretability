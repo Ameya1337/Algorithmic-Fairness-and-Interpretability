{
 "cells": [
  {
   "cell_type": "code",
   "execution_count": 8,
   "id": "4780e6ae",
   "metadata": {},
   "outputs": [],
   "source": [
    "# Import necessary libraries\n",
    "from sklearn.model_selection import train_test_split\n",
    "from sklearn.linear_model import LogisticRegression\n",
    "from sklearn.metrics import classification_report, accuracy_score, precision_score, recall_score, f1_score, r2_score\n",
    "import pandas as pd"
   ]
  },
  {
   "cell_type": "code",
   "execution_count": 16,
   "id": "f4b6e03d",
   "metadata": {},
   "outputs": [
    {
     "name": "stdout",
     "output_type": "stream",
     "text": [
      "Accuracy: 0.90\n",
      "Precision: 0.68\n",
      "Recall: 0.34\n",
      "F1 Score: 0.46\n",
      "\n",
      "Classification Report:\n",
      "               precision    recall  f1-score   support\n",
      "\n",
      "           0       0.92      0.98      0.95      1309\n",
      "           1       0.68      0.34      0.46       177\n",
      "\n",
      "    accuracy                           0.90      1486\n",
      "   macro avg       0.80      0.66      0.70      1486\n",
      "weighted avg       0.89      0.90      0.89      1486\n",
      "\n",
      "\n",
      "Feature Importance (Logistic Regression Coefficients):\n",
      "            Feature  Coefficient\n",
      "7     Credit event     2.864450\n",
      "6  Monthly payment     0.620591\n",
      "4     Down payment     0.249530\n",
      "5    Loan duration     0.008626\n",
      "3   Funding amount     0.000499\n",
      "2        Car price    -0.000435\n",
      "1              Age    -0.023819\n",
      "0       Job tenure    -0.103128\n",
      "9        Homeowner    -0.675827\n",
      "8          Married    -1.036126\n"
     ]
    },
    {
     "name": "stderr",
     "output_type": "stream",
     "text": [
      "C:\\Users\\Khushi Verma\\.conda\\Lib\\site-packages\\sklearn\\linear_model\\_logistic.py:469: ConvergenceWarning: lbfgs failed to converge (status=1):\n",
      "STOP: TOTAL NO. of ITERATIONS REACHED LIMIT.\n",
      "\n",
      "Increase the number of iterations (max_iter) or scale the data as shown in:\n",
      "    https://scikit-learn.org/stable/modules/preprocessing.html\n",
      "Please also refer to the documentation for alternative solver options:\n",
      "    https://scikit-learn.org/stable/modules/linear_model.html#logistic-regression\n",
      "  n_iter_i = _check_optimize_result(\n"
     ]
    }
   ],
   "source": [
    "df = pd.read_excel('../Data/dataproject2024.xlsx', sheet_name='Sheet1')\n",
    "\n",
    "# Define feature set (X) and target (y)\n",
    "X = df.drop(columns=['ID', 'Pred_default (y_hat)', 'Default (y)', 'PD', 'Group'])  # Dropping non-feature columns\n",
    "y = df['Pred_default (y_hat)']\n",
    "\n",
    "# Split the data into training and testing sets (80% train, 20% test)\n",
    "X_train, X_test, y_train, y_test = train_test_split(X, y, test_size=0.2, random_state=42)\n",
    "\n",
    "# Initialize the logistic regression model\n",
    "log_reg = LogisticRegression(max_iter=1000)\n",
    "\n",
    "# Train the model\n",
    "log_reg.fit(X_train, y_train)\n",
    "\n",
    "# Predict on the test set\n",
    "y_pred = log_reg.predict(X_test)\n",
    "\n",
    "# Performance metrics\n",
    "accuracy = accuracy_score(y_test, y_pred)\n",
    "precision = precision_score(y_test, y_pred)\n",
    "recall = recall_score(y_test, y_pred)\n",
    "f1 = f1_score(y_test, y_pred)\n",
    "classification_rep = classification_report(y_test, y_pred)\n",
    "\n",
    "\n",
    "# Print the metrics\n",
    "print(f\"Accuracy: {accuracy:.2f}\")\n",
    "print(f\"Precision: {precision:.2f}\")\n",
    "print(f\"Recall: {recall:.2f}\")\n",
    "print(f\"F1 Score: {f1:.2f}\")\n",
    "print(\"\\nClassification Report:\\n\", classification_rep)\n",
    "\n",
    "# Inspect feature importance (coefficients in logistic regression)\n",
    "feature_importance = pd.DataFrame({\n",
    "    'Feature': X.columns,\n",
    "    'Coefficient': log_reg.coef_[0]\n",
    "}).sort_values(by='Coefficient', ascending=False)\n",
    "\n",
    "print(\"\\nFeature Importance (Logistic Regression Coefficients):\\n\", feature_importance)"
   ]
  },
  {
   "cell_type": "code",
   "execution_count": 17,
   "id": "703d187c",
   "metadata": {},
   "outputs": [
    {
     "name": "stdout",
     "output_type": "stream",
     "text": [
      "Mean Squared Error: 0.0253\n",
      "R^2 Score: 0.4233\n",
      "\n",
      "Feature Importance (Linear Regression Coefficients):\n",
      "            Feature  Coefficient\n",
      "7     Credit event     0.315471\n",
      "6  Monthly payment     0.291974\n",
      "4     Down payment     0.081968\n",
      "5    Loan duration     0.001142\n",
      "3   Funding amount     0.000026\n",
      "2        Car price    -0.000021\n",
      "1              Age    -0.001269\n",
      "0       Job tenure    -0.002953\n",
      "9        Homeowner    -0.064714\n",
      "8          Married    -0.072892\n"
     ]
    }
   ],
   "source": [
    "from sklearn.linear_model import LinearRegression\n",
    "from sklearn.metrics import mean_squared_error, r2_score\n",
    "\n",
    "# Define feature set (X) and target (y, in this case PD)\n",
    "X = df.drop(columns=['ID', 'PD', 'Default (y)', 'Pred_default (y_hat)', 'Group'])  # Dropping non-feature columns\n",
    "y = df['PD']\n",
    "\n",
    "# Split the data into training and testing sets (80% train, 20% test)\n",
    "X_train, X_test, y_train, y_test = train_test_split(X, y, test_size=0.2, random_state=42)\n",
    "\n",
    "# Initialize the Linear Regression model\n",
    "lin_reg = LinearRegression()\n",
    "\n",
    "# Train the model\n",
    "lin_reg.fit(X_train, y_train)\n",
    "\n",
    "# Predict on the test set\n",
    "y_pred = lin_reg.predict(X_test)\n",
    "\n",
    "# Performance metrics for regression\n",
    "mse = mean_squared_error(y_test, y_pred)\n",
    "r2 = r2_score(y_test, y_pred)\n",
    "\n",
    "# Print the metrics\n",
    "print(f\"Mean Squared Error: {mse:.4f}\")\n",
    "print(f\"R^2 Score: {r2:.4f}\")\n",
    "\n",
    "# Feature importance (coefficients)\n",
    "feature_importance = pd.DataFrame({\n",
    "    'Feature': X.columns,\n",
    "    'Coefficient': lin_reg.coef_\n",
    "}).sort_values(by='Coefficient', ascending=False)\n",
    "\n",
    "print(\"\\nFeature Importance (Linear Regression Coefficients):\\n\", feature_importance)\n"
   ]
  },
  {
   "cell_type": "code",
   "execution_count": 19,
   "id": "2852b3b2",
   "metadata": {},
   "outputs": [],
   "source": [
    "import numpy as np\n",
    "import pandas as pd\n",
    "from sklearn.model_selection import train_test_split\n",
    "from sklearn.linear_model import LogisticRegression\n",
    "from sklearn.metrics import accuracy_score\n",
    "from sklearn.preprocessing import StandardScaler\n"
   ]
  },
  {
   "cell_type": "code",
   "execution_count": 23,
   "id": "fa1ca176",
   "metadata": {},
   "outputs": [],
   "source": [
    "X = df.drop(columns=['ID', 'PD', 'Default (y)', 'Pred_default (y_hat)', 'Group'])\n",
    "y = df['Pred_default (y_hat)']\n",
    "\n",
    "X_train, X_test, y_train, y_test = train_test_split(X, y, test_size=0.2, random_state=42)\n",
    "\n"
   ]
  },
  {
   "cell_type": "code",
   "execution_count": 25,
   "id": "2a1fc08d",
   "metadata": {},
   "outputs": [
    {
     "name": "stdout",
     "output_type": "stream",
     "text": [
      "Accuracy: 0.9030955585464334\n"
     ]
    }
   ],
   "source": [
    "scaler = StandardScaler()\n",
    "X_train = scaler.fit_transform(X_train)\n",
    "X_test = scaler.transform(X_test)\n",
    "\n",
    "model = LogisticRegression(penalty='l1', solver='saga', C=1.0, max_iter = 5000)  # 'saga' solver supports L1 penalty\n",
    "model.fit(X_train, y_train)\n",
    "\n",
    "y_pred = model.predict(X_test)\n",
    "accuracy = accuracy_score(y_test, y_pred)\n",
    "print(f'Accuracy: {accuracy}')\n"
   ]
  },
  {
   "cell_type": "code",
   "execution_count": null,
   "id": "3de61d85",
   "metadata": {},
   "outputs": [],
   "source": []
  }
 ],
 "metadata": {
  "kernelspec": {
   "display_name": "Python 3 (ipykernel)",
   "language": "python",
   "name": "python3"
  },
  "language_info": {
   "codemirror_mode": {
    "name": "ipython",
    "version": 3
   },
   "file_extension": ".py",
   "mimetype": "text/x-python",
   "name": "python",
   "nbconvert_exporter": "python",
   "pygments_lexer": "ipython3",
   "version": "3.11.4"
  }
 },
 "nbformat": 4,
 "nbformat_minor": 5
}
