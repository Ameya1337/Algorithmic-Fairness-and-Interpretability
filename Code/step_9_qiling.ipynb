{
 "cells": [
  {
   "cell_type": "markdown",
   "metadata": {},
   "source": [
    "**Step 9**\n",
    "\n",
    "Assess the fairness of your own model with respect to age (protected attribute). \n",
    "\n",
    "Use a statistical test for the following three fairness definitions: Statistical Parity and Conditional Statistical Parity (groups are given in the dataset). Discuss your results. \n"
   ]
  },
  {
   "cell_type": "code",
   "execution_count": 5,
   "metadata": {},
   "outputs": [],
   "source": [
    "import xgboost as xgb\n",
    "import matplotlib.pyplot as plt\n",
    "import pandas as pd\n",
    "from scipy.stats import chi2_contingency"
   ]
  },
  {
   "cell_type": "code",
   "execution_count": 3,
   "metadata": {},
   "outputs": [],
   "source": [
    "df_xgb = pd.read_csv('../Data/black_box_2_data.csv')"
   ]
  },
  {
   "cell_type": "code",
   "execution_count": null,
   "metadata": {},
   "outputs": [],
   "source": [
    "# Select features and target\n",
    "X = df_xgb.drop(columns=['Default (y)', 'Pred_default (y_hat)', 'PD'])\n",
    "y = df_xgb['Default (y)']"
   ]
  },
  {
   "cell_type": "code",
   "execution_count": 11,
   "metadata": {},
   "outputs": [],
   "source": [
    "#create groups for feature Age\n",
    "df_xgb['age_group'] = pd.qcut(df_xgb['Age'], q=4, labels=['Q1', 'Q2', 'Q3', 'Q4'])"
   ]
  },
  {
   "cell_type": "markdown",
   "metadata": {},
   "source": [
    "statistical parity"
   ]
  },
  {
   "cell_type": "code",
   "execution_count": 12,
   "metadata": {},
   "outputs": [
    {
     "name": "stdout",
     "output_type": "stream",
     "text": [
      "Chi-Square Statistic: 294.04629905001883\n",
      "p-value: 1.9331914586703346e-63\n",
      "Reject the null hypothesis: There is a relationship between age group and model prediction (statistical parity not satisfied).\n"
     ]
    }
   ],
   "source": [
    "# Create a contingency table\n",
    "contingency_table = pd.crosstab(df_xgb['Pred_default (y_hat)'], df_xgb['age_group'])\n",
    "\n",
    "# Apply Chi-Square test of independence\n",
    "chi2, p_value, dof, expected = chi2_contingency(contingency_table)\n",
    "\n",
    "# Output\n",
    "print(\"Chi-Square Statistic:\", chi2)\n",
    "print(\"p-value:\", p_value)\n",
    "\n",
    "# Interpretation\n",
    "if p_value < 0.05:\n",
    "    print(\"Reject the null hypothesis: There is a relationship between age group and model prediction (statistical parity not satisfied).\")\n",
    "else:\n",
    "    print(\"Fail to reject the null hypothesis: Model predictions are independent of age group (statistical parity satisfied).\")\n"
   ]
  },
  {
   "cell_type": "markdown",
   "metadata": {},
   "source": [
    "conditional statistical parity"
   ]
  },
  {
   "cell_type": "code",
   "execution_count": 14,
   "metadata": {},
   "outputs": [
    {
     "name": "stdout",
     "output_type": "stream",
     "text": [
      "Income group: 1\n",
      "Chi-Square Statistic: 10.386898649685582\n",
      "p-value: 0.015548087719457003\n",
      "\n",
      "Reject the null hypothesis for income group 1: Statistical parity not satisfied.\n",
      "Income group: 0\n",
      "Chi-Square Statistic: 133.8477537594348\n",
      "p-value: 8.012799128398504e-29\n",
      "\n",
      "Reject the null hypothesis for income group 0: Statistical parity not satisfied.\n"
     ]
    }
   ],
   "source": [
    "# Apply Chi-Square test for each income group\n",
    "for group in df_xgb['Group'].unique():\n",
    "    subset = df_xgb[df_xgb['Group'] == group]\n",
    "    \n",
    "    # Contingency table for the subset\n",
    "    contingency_table = pd.crosstab(subset['Pred_default (y_hat)'], subset['age_group'])\n",
    "    \n",
    "    # Chi-Square test\n",
    "    chi2, p_value, dof, expected = chi2_contingency(contingency_table)\n",
    "    \n",
    "    print(f\"Income group: {group}\")\n",
    "    print(\"Chi-Square Statistic:\", chi2)\n",
    "    print(\"p-value:\", p_value)\n",
    "    print()\n",
    "    \n",
    "    # Interpretation\n",
    "    if p_value < 0.05:\n",
    "        print(f\"Reject the null hypothesis for income group {group}: Statistical parity not satisfied.\")\n",
    "    else:\n",
    "        print(f\"Fail to reject the null hypothesis for income group {group}: Statistical parity satisfied.\")\n"
   ]
  }
 ],
 "metadata": {
  "kernelspec": {
   "display_name": "base",
   "language": "python",
   "name": "python3"
  },
  "language_info": {
   "codemirror_mode": {
    "name": "ipython",
    "version": 3
   },
   "file_extension": ".py",
   "mimetype": "text/x-python",
   "name": "python",
   "nbconvert_exporter": "python",
   "pygments_lexer": "ipython3",
   "version": "3.9.18"
  }
 },
 "nbformat": 4,
 "nbformat_minor": 2
}
